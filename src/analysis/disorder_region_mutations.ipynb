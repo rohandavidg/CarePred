{
 "cells": [
  {
   "cell_type": "code",
   "execution_count": 7,
   "id": "1a0da484",
   "metadata": {},
   "outputs": [],
   "source": [
    "import os\n",
    "import pandas as pd\n",
    "import numpy as np\n",
    "import re\n",
    "import numpy as np\n",
    "from scipy.stats import sem, t\n",
    "from sklearn.utils import resample\n",
    "from sklearn.metrics import roc_auc_score, average_precision_score\n",
    "import seaborn as sns\n",
    "import matplotlib.pyplot as plt"
   ]
  },
  {
   "cell_type": "code",
   "execution_count": 83,
   "id": "10147743",
   "metadata": {},
   "outputs": [],
   "source": [
    "BRCA1_PROTIEN_STOP=1863\n",
    "PALB2_PROTIEN_STOP=1183\n",
    "BRCA2_PROTIEN_STOP=3418\n",
    "RAD51C_PROTIEN_STOP=376\n",
    "TP53_PROTIEN_STOP=393 \n",
    "CHEK2_PROTIEN_STOP=543 \n",
    "PTEN_PROTIEN_STOP=403 \n",
    "BRCA1_transcript = \"ENST00000357654\"\n",
    "BRCA2_transcript = \"ENST00000380152\"\n",
    "PALB2_transcript = \"ENST00000261584\"\n",
    "RAD51C_transcript = \"ENST00000337432\"\n",
    "TP53_transcript = 'ENST00000269305'\n",
    "CHEK2_transcript = 'ENST00000404276'\n",
    "PTEN_transcript = 'ENST00000371953'\n",
    "\n"
   ]
  },
  {
   "cell_type": "code",
   "execution_count": 13,
   "id": "c9d7d3c7",
   "metadata": {},
   "outputs": [],
   "source": [
    "#dbNSFP\n",
    "BRCA1_dbnsfp_data = \"/research/bsi/projects/PI/tertiary/Couch_Fergus_coucf/s123456.general_utility/processing/thesis/dbNSFP/2023_11/BRCA1.dbNSFP4.7a_variant.chr17.20240413.tsv\"\n",
    "BRCA2_dbnsfp_data = \"/research/bsi/projects/PI/tertiary/Couch_Fergus_coucf/s123456.general_utility/processing/thesis/dbNSFP/2023_11/BRCA2.dbNSFP4.7a_variant.chr13.20240314.tsv\"\n",
    "PALB2_dbnsfp_data = \"/research/bsi/projects/PI/tertiary/Couch_Fergus_coucf/s123456.general_utility/processing/thesis/dbNSFP/2023_11/PALB2.dbNSFP4.7a_variant.chr16.20240314.tsv\"\n",
    "RAD51C_dbnsfp_data = \"/research/bsi/projects/PI/tertiary/Couch_Fergus_coucf/s123456.general_utility/processing/thesis/dbNSFP/2023_11/RAD51C.dbNSFP4.7a_variant.chr17.20240413.tsv\"\n",
    "TP53_dbnsfp_data = \"/research/bsi/projects/PI/tertiary/Couch_Fergus_coucf/s123456.general_utility/processing/thesis/dbNSFP/2023_11/TP53.dbNSFP4.7a_variant.chr17.20240414.tsv\"\n",
    "CHEK2_dbnsfp_data = \"/research/bsi/projects/PI/tertiary/Couch_Fergus_coucf/s123456.general_utility/processing/thesis/dbNSFP/2023_11/CHEK2.dbNSFP4.7a_variant.chr22.20240414.tsv\"\n",
    "PTEN_dbnsfp_data = \"/research/bsi/projects/PI/tertiary/Couch_Fergus_coucf/s123456.general_utility/processing/thesis/dbNSFP/2023_11/PTEN.dbNSFP4.7a_variant.chr17.20240414.tsv\"\n",
    "\n",
    "#disorder\n",
    "BRCA1_disorder = '/research/bsi/projects/PI/tertiary/Couch_Fergus_coucf/s123456.general_utility/processing/thesis/disorder/mobidb_result_2024-06-09T20_44_18.054Z.BRCA1.tsv'\n",
    "BRCA2_disorder = '/research/bsi/projects/PI/tertiary/Couch_Fergus_coucf/s123456.general_utility/processing/thesis/disorder/mobidb_result_2024-06-09T20_45_11.298Z.BRCA2.tsv'\n",
    "PALB2_disorder = '/research/bsi/projects/PI/tertiary/Couch_Fergus_coucf/s123456.general_utility/processing/thesis/disorder/mobidb_result_2024-06-09T20_32_02.645Z.PALB2.tsv'\n",
    "RAD51C_disorder = '/research/bsi/projects/PI/tertiary/Couch_Fergus_coucf/s123456.general_utility/processing/thesis/disorder/mobidb_result_2024-06-09T20_34_32.379Z.RAD51C.tsv'\n",
    "TP53_disorder = '/research/bsi/projects/PI/tertiary/Couch_Fergus_coucf/s123456.general_utility/processing/thesis/disorder/mobidb_result_2024-09-11T21_03_59.549Z.TP53.tsv'\n",
    "CHEK2_disorder = '/research/bsi/projects/PI/tertiary/Couch_Fergus_coucf/s123456.general_utility/processing/thesis/disorder/mobidb_result_2024-09-11T21_04_23.387Z.CHEK2.tsv'\n",
    "PTEN_disorder = '/research/bsi/projects/PI/tertiary/Couch_Fergus_coucf/s123456.general_utility/processing/thesis/disorder/mobidb_result_2024-09-11T21_03_38.584Z.PTEN.tsv'"
   ]
  },
  {
   "cell_type": "code",
   "execution_count": 10,
   "id": "41e04b3a",
   "metadata": {},
   "outputs": [],
   "source": [
    "def three_to_one(aa_three):\n",
    "    amino_acids = {\n",
    "        'ALA': 'A', 'ARG': 'R', 'ASN': 'N', 'ASP': 'D',\n",
    "        'CYS': 'C', 'GLU': 'E', 'GLN': 'Q', 'GLY': 'G',\n",
    "        'HIS': 'H', 'ILE': 'I', 'LEU': 'L', 'LYS': 'K',\n",
    "        'MET': 'M', 'PHE': 'F', 'PRO': 'P', 'SER': 'S',\n",
    "        'THR': 'T', 'TRP': 'W', 'TYR': 'Y', 'VAL': 'V'\n",
    "    }\n",
    "\n",
    "    return amino_acids.get(aa_three.upper(), None)\n",
    "\n",
    "\n",
    "def extract_integers(s):\n",
    "    return [int(match.group()) for match in re.finditer(r'\\d+', s)]\n",
    "\n",
    "def preprocess_dbNSFP(dbNSFP_data, gene, transcript):\n",
    "    map_class_dict = {\"unknown\" : 'VUS',\n",
    "                      \"Conflicting_interpretations_of_pathogenicity\":'VUS',\n",
    "                      \"not_provided\" : \"VUS\",\n",
    "                      \"not_provided\": \"VUS\",\n",
    "                      \"Uncertain_significance\" : \"VUS\",\n",
    "                      \"Pathogenic\": \"Abnormal\",\n",
    "                      \"Likely_benign\": \"Normal\",\n",
    "                      \"Benign\": \"Normal\",\n",
    "                      \"Likely_pathogenic\": \"Abnormal\",\n",
    "                      \"Pathogenic/Likely_pathogenic\": \"Abnormal\",\n",
    "                      \"Benign/Likely_benign\" : \"Normal\"}\n",
    "    dbNSFP_df = pd.read_csv(dbNSFP_data, sep='\\t')\n",
    "    required_columns = ['aaref', 'aaalt', 'aapos', 'genename', 'Ensembl_transcriptid',\n",
    "                        'clinvar_clnsig' ]\n",
    "\n",
    "    is_rankscore_column = [column for column in dbNSFP_df.columns if column.endswith('rankscore')]\n",
    "    values_to_remove = ['LINSIGHT_rankscore', 'GenoCanyon_rankscore', 'LIST-S2_rankscore', 'fathmm-MKL_coding_rankscore',\n",
    "                   'fathmm-XF_coding_rankscore']\n",
    "    is_rankscore_column = [item for item in is_rankscore_column if item not in values_to_remove]\n",
    "    required_columns += is_rankscore_column\n",
    "\n",
    "    dbNSFP_req_df = dbNSFP_df[required_columns]\n",
    "    dbNSFP_req_df['aapos'] = dbNSFP_req_df['aapos'].str.split(';')\n",
    "    dbNSFP_req_df['Ensembl_transcriptid'] = dbNSFP_req_df['Ensembl_transcriptid'].str.split(';')\n",
    "    dbNSFP_req_df['genename'] = dbNSFP_req_df['genename'].str.split(';')\n",
    "    columns_to_explode = [ 'aapos','Ensembl_transcriptid', 'genename']\n",
    "    dbNSFP_req_df = dbNSFP_req_df.apply(lambda x: x.explode() if x.name in columns_to_explode else x)\n",
    "    dbNSFP_req_df = dbNSFP_req_df[(dbNSFP_req_df['genename'] == gene) &\n",
    "                                  (dbNSFP_req_df['Ensembl_transcriptid'] == transcript)]\n",
    "\n",
    "    dbNSFP_req_df['aapos'] = dbNSFP_req_df['aapos'].astype(int)\n",
    "    dbNSFP_req_df = dbNSFP_req_df[dbNSFP_req_df['aapos'] >=0]\n",
    "    dbNSFP_req_df['aapos'] = dbNSFP_req_df['aapos'].astype(str)\n",
    "    dbNSFP_req_df['mutations'] = dbNSFP_req_df['aaref'] + dbNSFP_req_df['aapos'] + dbNSFP_req_df['aaalt']\n",
    "    \n",
    "    dbNSFP_req_df = dbNSFP_req_df.replace(\".\", np.nan)\n",
    "    dbNSFP_req_df['aapos'] = dbNSFP_req_df['aapos'].astype(int)\n",
    "    columns_to_fillna = is_rankscore_column\n",
    "    dbNSFP_req_df[columns_to_fillna] = dbNSFP_req_df[columns_to_fillna].fillna(0)\n",
    "\n",
    "    dbNSFP_req_df['clinvar_clnsig'] = dbNSFP_req_df['clinvar_clnsig'].fillna('unknown')\n",
    "    dbNSFP_req_df['ClinVar_Class'] = dbNSFP_req_df['clinvar_clnsig'].map(map_class_dict)\n",
    "    dbNSFP_req_df = dbNSFP_req_df.drop_duplicates().reset_index(drop=True)\n",
    "    #bNSFP_req_df = dbNSFP_req_df[['mutations', 'ClinVar_Class']]\n",
    "    dbNSFP_req_clinvar_df = dbNSFP_req_df[(dbNSFP_req_df['ClinVar_Class'] == \"Abnormal\") | (dbNSFP_req_df['ClinVar_Class'] == \"Normal\")]\n",
    "    dbNSFP_req_clinvar_df = dbNSFP_req_clinvar_df.drop_duplicates()\n",
    "    dbNSFP_req_clinvar_df = dbNSFP_req_clinvar_df.reset_index(drop=True)\n",
    "    return dbNSFP_req_df, dbNSFP_req_clinvar_df"
   ]
  },
  {
   "cell_type": "code",
   "execution_count": 20,
   "id": "91800c47",
   "metadata": {},
   "outputs": [
    {
     "name": "stderr",
     "output_type": "stream",
     "text": [
      "/research/bsi/projects/PI/tertiary/Couch_Fergus_coucf/s123456.general_utility/python_virtual/lib/python3.7/site-packages/ipykernel_launcher.py:1: DtypeWarning: Columns (49,50,52,68,158,159,161,162,163,164,165,166,188,189,194,195,199,200) have mixed types.Specify dtype option on import or set low_memory=False.\n",
      "  \"\"\"Entry point for launching an IPython kernel.\n",
      "/research/bsi/projects/PI/tertiary/Couch_Fergus_coucf/s123456.general_utility/python_virtual/lib/python3.7/site-packages/ipykernel_launcher.py:39: SettingWithCopyWarning: \n",
      "A value is trying to be set on a copy of a slice from a DataFrame.\n",
      "Try using .loc[row_indexer,col_indexer] = value instead\n",
      "\n",
      "See the caveats in the documentation: https://pandas.pydata.org/pandas-docs/stable/user_guide/indexing.html#returning-a-view-versus-a-copy\n",
      "/research/bsi/projects/PI/tertiary/Couch_Fergus_coucf/s123456.general_utility/python_virtual/lib/python3.7/site-packages/ipykernel_launcher.py:40: SettingWithCopyWarning: \n",
      "A value is trying to be set on a copy of a slice from a DataFrame.\n",
      "Try using .loc[row_indexer,col_indexer] = value instead\n",
      "\n",
      "See the caveats in the documentation: https://pandas.pydata.org/pandas-docs/stable/user_guide/indexing.html#returning-a-view-versus-a-copy\n",
      "/research/bsi/projects/PI/tertiary/Couch_Fergus_coucf/s123456.general_utility/python_virtual/lib/python3.7/site-packages/ipykernel_launcher.py:41: SettingWithCopyWarning: \n",
      "A value is trying to be set on a copy of a slice from a DataFrame.\n",
      "Try using .loc[row_indexer,col_indexer] = value instead\n",
      "\n",
      "See the caveats in the documentation: https://pandas.pydata.org/pandas-docs/stable/user_guide/indexing.html#returning-a-view-versus-a-copy\n",
      "/research/bsi/projects/PI/tertiary/Couch_Fergus_coucf/s123456.general_utility/python_virtual/lib/python3.7/site-packages/ipykernel_launcher.py:2: DtypeWarning: Columns (49,50,52,68,158,159,199,200) have mixed types.Specify dtype option on import or set low_memory=False.\n",
      "  \n",
      "/research/bsi/projects/PI/tertiary/Couch_Fergus_coucf/s123456.general_utility/python_virtual/lib/python3.7/site-packages/ipykernel_launcher.py:3: DtypeWarning: Columns (53,161,162,163,164,165,166,199,200) have mixed types.Specify dtype option on import or set low_memory=False.\n",
      "  This is separate from the ipykernel package so we can avoid doing imports until\n",
      "/research/bsi/projects/PI/tertiary/Couch_Fergus_coucf/s123456.general_utility/python_virtual/lib/python3.7/site-packages/ipykernel_launcher.py:4: DtypeWarning: Columns (188,189,194,195) have mixed types.Specify dtype option on import or set low_memory=False.\n",
      "  after removing the cwd from sys.path.\n",
      "/research/bsi/projects/PI/tertiary/Couch_Fergus_coucf/s123456.general_utility/python_virtual/lib/python3.7/site-packages/ipykernel_launcher.py:5: DtypeWarning: Columns (53,161,162,163,164,165,166,183,184,185,188,189,194,195,199,200) have mixed types.Specify dtype option on import or set low_memory=False.\n",
      "  \"\"\"\n",
      "/research/bsi/projects/PI/tertiary/Couch_Fergus_coucf/s123456.general_utility/python_virtual/lib/python3.7/site-packages/ipykernel_launcher.py:6: DtypeWarning: Columns (49,50,52,68,158,159,161,162,163,164,165,166,183,184,185,188,189,194,195,199,200) have mixed types.Specify dtype option on import or set low_memory=False.\n",
      "  \n",
      "/research/bsi/projects/PI/tertiary/Couch_Fergus_coucf/s123456.general_utility/python_virtual/lib/python3.7/site-packages/ipykernel_launcher.py:7: DtypeWarning: Columns (161,162,163,164,165,166) have mixed types.Specify dtype option on import or set low_memory=False.\n",
      "  import sys\n"
     ]
    }
   ],
   "source": [
    "BRCA1_all_df, BRCA1_dbNSFP_df = preprocess_dbNSFP(BRCA1_dbnsfp_data, 'BRCA1', BRCA1_transcript)\n",
    "BRCA2_all_df, BRCA2_dbNSFP_df = preprocess_dbNSFP(BRCA2_dbnsfp_data, 'BRCA2', BRCA2_transcript)\n",
    "PALB2_all_df, PALB2_dbNSFP_df = preprocess_dbNSFP(PALB2_dbnsfp_data, 'PALB2', PALB2_transcript)\n",
    "RAD51C_all_df, RAD51C_dbNSFP_df = preprocess_dbNSFP(RAD51C_dbnsfp_data, 'RAD51C', RAD51C_transcript)\n",
    "TP53_all_df, TP53_dbNSFP_df = preprocess_dbNSFP(TP53_dbnsfp_data, 'TP53', TP53_transcript)\n",
    "CHEK2_all_df, CHEK2_dbNSFP_df = preprocess_dbNSFP(CHEK2_dbnsfp_data, 'CHEK2', CHEK2_transcript)\n",
    "PTEN_all_df, PTEN_dbNSFP_df = preprocess_dbNSFP(PTEN_dbnsfp_data, 'PTEN', PTEN_transcript)"
   ]
  },
  {
   "cell_type": "code",
   "execution_count": 69,
   "id": "f9bf2c91",
   "metadata": {},
   "outputs": [],
   "source": [
    "def process_disorder_data(dbNSFP_df, gene_name, stop, disorder_ranges=None):\n",
    "    disorder_df = pd.DataFrame({'aapos': range(1, stop + 1)})\n",
    "    disorder_df['disorder'] = 0\n",
    "    if disorder_ranges:\n",
    "        for start, end in disorder_ranges:\n",
    "            disorder_df.loc[(disorder_df['aapos'] >= start) & (disorder_df['aapos'] <= end), 'disorder'] = 1\n",
    "    dbNSFP_df['aapos'] = dbNSFP_df['aapos'].astype(int)\n",
    "    merged_df = pd.merge(disorder_df, dbNSFP_df, on='aapos', how='right')\n",
    "    merged_df = merged_df[(merged_df['disorder'] == 1) & (merged_df['aaalt'] != 'X')]\n",
    "    merged_df['GENE'] = gene_name\n",
    "    print(f\"Processed {gene_name} gene.\")\n",
    "    \n",
    "    return merged_df"
   ]
  },
  {
   "cell_type": "code",
   "execution_count": 84,
   "id": "3de4b674",
   "metadata": {},
   "outputs": [
    {
     "name": "stdout",
     "output_type": "stream",
     "text": [
      "Processed BRCA1 gene.\n",
      "Processed BRCA2 gene.\n",
      "Processed PALB2 gene.\n",
      "Processed RAD51C gene.\n",
      "Processed TP53 gene.\n",
      "Processed CHEK2 gene.\n",
      "Processed PTEN gene.\n"
     ]
    }
   ],
   "source": [
    "# Example usage:\n",
    "BRCA1_disorder_ranges = [(100, 1649)]\n",
    "BRCA2_disorder_ranges = [(40, 284), (358, 381), (2430, 2450), (3393, 3418)]\n",
    "PALB2_disorder_ranges = [(835, 853), (879, 882), (950, 955), (996, 997), (1054, 1056), (1076, 1087), (1155, 1156)]\n",
    "RAD51C_disorder_ranges = [(1, 12), (71, 88), (351, 376)]\n",
    "TP53_disorder_ranges = [(1, 97),(288,312),(361,393)]\n",
    "PTEN_disorder_ranges = [(286,309), (353,403)]\n",
    "CHEK2_disorder_ranges = [(1,69),(89,90),(504,513),(532,543)]\n",
    "\n",
    "\n",
    "BRCA1_dbNSFP_disorder_df = process_disorder_data( BRCA1_dbNSFP_df, \"BRCA1\", BRCA1_PROTIEN_STOP, disorder_ranges=BRCA1_disorder_ranges)\n",
    "BRCA2_dbNSFP_disorder_df = process_disorder_data(BRCA2_dbNSFP_df, \"BRCA2\", BRCA2_PROTIEN_STOP, disorder_ranges=BRCA2_disorder_ranges)\n",
    "PALB2_dbNSFP_disorder_df = process_disorder_data(PALB2_dbNSFP_df, \"PALB2\", PALB2_PROTIEN_STOP, disorder_ranges=PALB2_disorder_ranges)\n",
    "RAD51C_dbNSFP_disorder_df = process_disorder_data(RAD51C_dbNSFP_df, \"RAD51C\", RAD51C_PROTIEN_STOP, disorder_ranges=RAD51C_disorder_ranges)\n",
    "TP53_dbNSFP_disorder_df = process_disorder_data(TP53_dbNSFP_df, \"TP53\", TP53_PROTIEN_STOP, disorder_ranges=TP53_disorder_ranges)\n",
    "CHEK2_dbNSFP_disorder_df = process_disorder_data(CHEK2_dbNSFP_df, \"CHEK2\",CHEK2_PROTIEN_STOP,disorder_ranges=CHEK2_disorder_ranges)\n",
    "PTEN_dbNSFP_disorder_df = process_disorder_data(PTEN_dbNSFP_df, \"PTEN\", PTEN_PROTIEN_STOP, disorder_ranges=PTEN_disorder_ranges)\n"
   ]
  },
  {
   "cell_type": "code",
   "execution_count": 85,
   "id": "f75cf3ef",
   "metadata": {},
   "outputs": [
    {
     "data": {
      "text/plain": [
       "393"
      ]
     },
     "execution_count": 85,
     "metadata": {},
     "output_type": "execute_result"
    }
   ],
   "source": [
    "TP53_dbNSFP_df['aapos'].max()"
   ]
  },
  {
   "cell_type": "code",
   "execution_count": 86,
   "id": "068c0c0f",
   "metadata": {},
   "outputs": [],
   "source": [
    "disorder_dbNSFP_df = pd.concat([BRCA1_dbNSFP_disorder_df, BRCA2_dbNSFP_disorder_df, \n",
    "                               PALB2_dbNSFP_disorder_df, RAD51C_dbNSFP_disorder_df,\n",
    "                               TP53_dbNSFP_disorder_df, CHEK2_dbNSFP_disorder_df,\n",
    "                               PTEN_dbNSFP_disorder_df], axis=0)"
   ]
  },
  {
   "cell_type": "code",
   "execution_count": 87,
   "id": "43502fa6",
   "metadata": {},
   "outputs": [
    {
     "data": {
      "text/plain": [
       "ClinVar_Class  GENE \n",
       "Normal         BRCA1    266\n",
       "               TP53      68\n",
       "               BRCA2     28\n",
       "Abnormal       BRCA1     11\n",
       "               BRCA2      5\n",
       "Normal         PTEN       4\n",
       "               CHEK2      3\n",
       "Abnormal       TP53       2\n",
       "               CHEK2      1\n",
       "Normal         PALB2      1\n",
       "dtype: int64"
      ]
     },
     "execution_count": 87,
     "metadata": {},
     "output_type": "execute_result"
    }
   ],
   "source": [
    "disorder_dbNSFP_df[['ClinVar_Class', 'GENE']].value_counts()"
   ]
  },
  {
   "cell_type": "code",
   "execution_count": null,
   "id": "5d431112",
   "metadata": {},
   "outputs": [],
   "source": []
  }
 ],
 "metadata": {
  "kernelspec": {
   "display_name": "Python 3 (ipykernel)",
   "language": "python",
   "name": "python3"
  },
  "language_info": {
   "codemirror_mode": {
    "name": "ipython",
    "version": 3
   },
   "file_extension": ".py",
   "mimetype": "text/x-python",
   "name": "python",
   "nbconvert_exporter": "python",
   "pygments_lexer": "ipython3",
   "version": "3.7.4"
  }
 },
 "nbformat": 4,
 "nbformat_minor": 5
}
